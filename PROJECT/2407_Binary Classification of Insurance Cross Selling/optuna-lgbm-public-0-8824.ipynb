{
 "cells": [
  {
   "cell_type": "code",
   "execution_count": 6,
   "metadata": {
    "_cell_guid": "b1076dfc-b9ad-4769-8c92-a6c4dae69d19",
    "_uuid": "8f2839f25d086af736a60e9eeb907d3b93b6e0e5",
    "execution": {
     "iopub.execute_input": "2024-08-01T05:20:32.248849Z",
     "iopub.status.busy": "2024-08-01T05:20:32.248443Z",
     "iopub.status.idle": "2024-08-01T05:20:32.257132Z",
     "shell.execute_reply": "2024-08-01T05:20:32.256026Z",
     "shell.execute_reply.started": "2024-08-01T05:20:32.248818Z"
    },
    "trusted": true
   },
   "outputs": [
    {
     "name": "stdout",
     "output_type": "stream",
     "text": [
      "/kaggle/input/playground-series-s4e7/sample_submission.csv\n",
      "/kaggle/input/playground-series-s4e7/train.csv\n",
      "/kaggle/input/playground-series-s4e7/test.csv\n"
     ]
    }
   ],
   "source": [
    "# This Python 3 environment comes with many helpful analytics libraries installed\n",
    "# It is defined by the kaggle/python Docker image: https://github.com/kaggle/docker-python\n",
    "# For example, here's several helpful packages to load\n",
    "\n",
    "import numpy as np # linear algebra\n",
    "import pandas as pd # data processing, CSV file I/O (e.g. pd.read_csv)\n",
    "\n",
    "# Input data files are available in the read-only \"../input/\" directory\n",
    "# For example, running this (by clicking run or pressing Shift+Enter) will list all files under the input directory\n",
    "\n",
    "import os\n",
    "for dirname, _, filenames in os.walk('/kaggle/input'):\n",
    "    for filename in filenames:\n",
    "        print(os.path.join(dirname, filename))\n",
    "\n",
    "# You can write up to 20GB to the current directory (/kaggle/working/) that gets preserved as output when you create a version using \"Save & Run All\" \n",
    "# You can also write temporary files to /kaggle/temp/, but they won't be saved outside of the current session"
   ]
  },
  {
   "cell_type": "markdown",
   "metadata": {},
   "source": [
    "# Load Dataset"
   ]
  },
  {
   "cell_type": "code",
   "execution_count": 7,
   "metadata": {
    "execution": {
     "iopub.execute_input": "2024-08-01T05:20:32.840814Z",
     "iopub.status.busy": "2024-08-01T05:20:32.840416Z",
     "iopub.status.idle": "2024-08-01T05:20:56.330605Z",
     "shell.execute_reply": "2024-08-01T05:20:56.329513Z",
     "shell.execute_reply.started": "2024-08-01T05:20:32.840784Z"
    },
    "trusted": true
   },
   "outputs": [],
   "source": [
    "sample = pd.read_csv('/kaggle/input/playground-series-s4e7/sample_submission.csv')\n",
    "test = pd.read_csv('/kaggle/input/playground-series-s4e7/test.csv')\n",
    "train = pd.read_csv('/kaggle/input/playground-series-s4e7/train.csv')"
   ]
  },
  {
   "cell_type": "markdown",
   "metadata": {},
   "source": [
    "| Variables | (Eng)Description | (한글)요약\n",
    "|:------:|---|---|\n",
    "|**id**| Unique ID for the customer | 고객 ID\n",
    "|**Gender**| Gender of the customer | 성별\n",
    "|**Age**| Age of the customer | 나이\n",
    "|**Driving_License**| 0 : Customer does not have DL, 1 : Customer already has DL | 운전면허 여부(0: 없음, 1: 있음)\n",
    "|**Region_Code**|Unique code for the region of the customer|지역코드\n",
    "|**Previously_Insured**|1 : Customer already has Vehicle Insurance, 0 : Customer doesn't have Vehicle Insurance|보험여부(0: 없음, 1: 있음)\n",
    "|**Vehicle_Age**|Age of the Vehicle|차량 연식\n",
    "|**Vehicle_Damage**|1 : Customer got his/her vehicle damaged in the past. 0 : Customer didn't get his/her vehicle damaged in the past.|손상여부(0:없음, 1:있음)\n",
    "|**Annual_Premium**|The amount customer needs to pay as premium in the year|연간 보험료\n",
    "|**Policy_Sales_Channel**|Anonymized Code for the channel of outreaching to the customer ie. Different Agents, Over Mail, Over Phone, In Person, etc.|판매 채널\n",
    "|**Vintage**|Number of Days, Customer has been associated with the company|가입기간(일)\n",
    "|**Response**(target)|1 : Customer is interested, 0 : Customer is not interested|고객 반응여부(0: 관심없음, 1: 관심있음)"
   ]
  },
  {
   "cell_type": "markdown",
   "metadata": {},
   "source": [
    "## Data preview"
   ]
  },
  {
   "cell_type": "code",
   "execution_count": 11,
   "metadata": {
    "execution": {
     "iopub.execute_input": "2024-08-01T05:21:41.761776Z",
     "iopub.status.busy": "2024-08-01T05:21:41.761365Z",
     "iopub.status.idle": "2024-08-01T05:21:41.801333Z",
     "shell.execute_reply": "2024-08-01T05:21:41.800195Z",
     "shell.execute_reply.started": "2024-08-01T05:21:41.761742Z"
    },
    "trusted": true
   },
   "outputs": [
    {
     "data": {
      "text/plain": [
       "(7669866, 11)"
      ]
     },
     "metadata": {},
     "output_type": "display_data"
    },
    {
     "data": {
      "text/plain": [
       "id                        int64\n",
       "Gender                   object\n",
       "Age                       int64\n",
       "Driving_License           int64\n",
       "Region_Code             float64\n",
       "Previously_Insured        int64\n",
       "Vehicle_Age              object\n",
       "Vehicle_Damage           object\n",
       "Annual_Premium          float64\n",
       "Policy_Sales_Channel    float64\n",
       "Vintage                   int64\n",
       "dtype: object"
      ]
     },
     "metadata": {},
     "output_type": "display_data"
    },
    {
     "data": {
      "text/html": [
       "<div>\n",
       "<style scoped>\n",
       "    .dataframe tbody tr th:only-of-type {\n",
       "        vertical-align: middle;\n",
       "    }\n",
       "\n",
       "    .dataframe tbody tr th {\n",
       "        vertical-align: top;\n",
       "    }\n",
       "\n",
       "    .dataframe thead th {\n",
       "        text-align: right;\n",
       "    }\n",
       "</style>\n",
       "<table border=\"1\" class=\"dataframe\">\n",
       "  <thead>\n",
       "    <tr style=\"text-align: right;\">\n",
       "      <th></th>\n",
       "      <th>id</th>\n",
       "      <th>Gender</th>\n",
       "      <th>Age</th>\n",
       "      <th>Driving_License</th>\n",
       "      <th>Region_Code</th>\n",
       "      <th>Previously_Insured</th>\n",
       "      <th>Vehicle_Age</th>\n",
       "      <th>Vehicle_Damage</th>\n",
       "      <th>Annual_Premium</th>\n",
       "      <th>Policy_Sales_Channel</th>\n",
       "      <th>Vintage</th>\n",
       "    </tr>\n",
       "  </thead>\n",
       "  <tbody>\n",
       "    <tr>\n",
       "      <th>0</th>\n",
       "      <td>11504798</td>\n",
       "      <td>Female</td>\n",
       "      <td>20</td>\n",
       "      <td>1</td>\n",
       "      <td>47.0</td>\n",
       "      <td>0</td>\n",
       "      <td>&lt; 1 Year</td>\n",
       "      <td>No</td>\n",
       "      <td>2630.0</td>\n",
       "      <td>160.0</td>\n",
       "      <td>228</td>\n",
       "    </tr>\n",
       "    <tr>\n",
       "      <th>1</th>\n",
       "      <td>11504799</td>\n",
       "      <td>Male</td>\n",
       "      <td>47</td>\n",
       "      <td>1</td>\n",
       "      <td>28.0</td>\n",
       "      <td>0</td>\n",
       "      <td>1-2 Year</td>\n",
       "      <td>Yes</td>\n",
       "      <td>37483.0</td>\n",
       "      <td>124.0</td>\n",
       "      <td>123</td>\n",
       "    </tr>\n",
       "    <tr>\n",
       "      <th>2</th>\n",
       "      <td>11504800</td>\n",
       "      <td>Male</td>\n",
       "      <td>47</td>\n",
       "      <td>1</td>\n",
       "      <td>43.0</td>\n",
       "      <td>0</td>\n",
       "      <td>1-2 Year</td>\n",
       "      <td>Yes</td>\n",
       "      <td>2630.0</td>\n",
       "      <td>26.0</td>\n",
       "      <td>271</td>\n",
       "    </tr>\n",
       "  </tbody>\n",
       "</table>\n",
       "</div>"
      ],
      "text/plain": [
       "         id  Gender  Age  Driving_License  Region_Code  Previously_Insured  \\\n",
       "0  11504798  Female   20                1         47.0                   0   \n",
       "1  11504799    Male   47                1         28.0                   0   \n",
       "2  11504800    Male   47                1         43.0                   0   \n",
       "\n",
       "  Vehicle_Age Vehicle_Damage  Annual_Premium  Policy_Sales_Channel  Vintage  \n",
       "0    < 1 Year             No          2630.0                 160.0      228  \n",
       "1    1-2 Year            Yes         37483.0                 124.0      123  \n",
       "2    1-2 Year            Yes          2630.0                  26.0      271  "
      ]
     },
     "metadata": {},
     "output_type": "display_data"
    },
    {
     "data": {
      "text/plain": [
       "'*********************************************'"
      ]
     },
     "metadata": {},
     "output_type": "display_data"
    },
    {
     "data": {
      "text/plain": [
       "(11504798, 12)"
      ]
     },
     "metadata": {},
     "output_type": "display_data"
    },
    {
     "data": {
      "text/plain": [
       "id                        int32\n",
       "Gender                   object\n",
       "Age                        int8\n",
       "Driving_License            int8\n",
       "Region_Code             float64\n",
       "Previously_Insured        int64\n",
       "Vehicle_Age              object\n",
       "Vehicle_Damage           object\n",
       "Annual_Premium          float64\n",
       "Policy_Sales_Channel    float64\n",
       "Vintage                   int64\n",
       "Response                  int64\n",
       "dtype: object"
      ]
     },
     "metadata": {},
     "output_type": "display_data"
    },
    {
     "data": {
      "text/html": [
       "<div>\n",
       "<style scoped>\n",
       "    .dataframe tbody tr th:only-of-type {\n",
       "        vertical-align: middle;\n",
       "    }\n",
       "\n",
       "    .dataframe tbody tr th {\n",
       "        vertical-align: top;\n",
       "    }\n",
       "\n",
       "    .dataframe thead th {\n",
       "        text-align: right;\n",
       "    }\n",
       "</style>\n",
       "<table border=\"1\" class=\"dataframe\">\n",
       "  <thead>\n",
       "    <tr style=\"text-align: right;\">\n",
       "      <th></th>\n",
       "      <th>id</th>\n",
       "      <th>Gender</th>\n",
       "      <th>Age</th>\n",
       "      <th>Driving_License</th>\n",
       "      <th>Region_Code</th>\n",
       "      <th>Previously_Insured</th>\n",
       "      <th>Vehicle_Age</th>\n",
       "      <th>Vehicle_Damage</th>\n",
       "      <th>Annual_Premium</th>\n",
       "      <th>Policy_Sales_Channel</th>\n",
       "      <th>Vintage</th>\n",
       "      <th>Response</th>\n",
       "    </tr>\n",
       "  </thead>\n",
       "  <tbody>\n",
       "    <tr>\n",
       "      <th>0</th>\n",
       "      <td>0</td>\n",
       "      <td>Male</td>\n",
       "      <td>21</td>\n",
       "      <td>1</td>\n",
       "      <td>35.0</td>\n",
       "      <td>0</td>\n",
       "      <td>1-2 Year</td>\n",
       "      <td>Yes</td>\n",
       "      <td>65101.0</td>\n",
       "      <td>124.0</td>\n",
       "      <td>187</td>\n",
       "      <td>0</td>\n",
       "    </tr>\n",
       "    <tr>\n",
       "      <th>1</th>\n",
       "      <td>1</td>\n",
       "      <td>Male</td>\n",
       "      <td>43</td>\n",
       "      <td>1</td>\n",
       "      <td>28.0</td>\n",
       "      <td>0</td>\n",
       "      <td>&gt; 2 Years</td>\n",
       "      <td>Yes</td>\n",
       "      <td>58911.0</td>\n",
       "      <td>26.0</td>\n",
       "      <td>288</td>\n",
       "      <td>1</td>\n",
       "    </tr>\n",
       "    <tr>\n",
       "      <th>2</th>\n",
       "      <td>2</td>\n",
       "      <td>Female</td>\n",
       "      <td>25</td>\n",
       "      <td>1</td>\n",
       "      <td>14.0</td>\n",
       "      <td>1</td>\n",
       "      <td>&lt; 1 Year</td>\n",
       "      <td>No</td>\n",
       "      <td>38043.0</td>\n",
       "      <td>152.0</td>\n",
       "      <td>254</td>\n",
       "      <td>0</td>\n",
       "    </tr>\n",
       "  </tbody>\n",
       "</table>\n",
       "</div>"
      ],
      "text/plain": [
       "   id  Gender  Age  Driving_License  Region_Code  Previously_Insured  \\\n",
       "0   0    Male   21                1         35.0                   0   \n",
       "1   1    Male   43                1         28.0                   0   \n",
       "2   2  Female   25                1         14.0                   1   \n",
       "\n",
       "  Vehicle_Age Vehicle_Damage  Annual_Premium  Policy_Sales_Channel  Vintage  \\\n",
       "0    1-2 Year            Yes         65101.0                 124.0      187   \n",
       "1   > 2 Years            Yes         58911.0                  26.0      288   \n",
       "2    < 1 Year             No         38043.0                 152.0      254   \n",
       "\n",
       "   Response  \n",
       "0         0  \n",
       "1         1  \n",
       "2         0  "
      ]
     },
     "metadata": {},
     "output_type": "display_data"
    }
   ],
   "source": [
    "display(test.shape, test.dtypes, test.head(3), \"*********************************************\", train.shape, train.dtypes, train.head(3))"
   ]
  },
  {
   "cell_type": "code",
   "execution_count": 12,
   "metadata": {
    "execution": {
     "iopub.execute_input": "2024-08-01T05:21:42.013804Z",
     "iopub.status.busy": "2024-08-01T05:21:42.013397Z",
     "iopub.status.idle": "2024-08-01T05:21:42.020804Z",
     "shell.execute_reply": "2024-08-01T05:21:42.019677Z",
     "shell.execute_reply.started": "2024-08-01T05:21:42.013771Z"
    },
    "trusted": true
   },
   "outputs": [],
   "source": [
    "def resumetable(df):\n",
    "  print(f'shape: {df.shape}')\n",
    "  summary = pd.DataFrame(df.dtypes, columns = ['Data type']).reset_index()\n",
    "  summary = summary.rename(columns={'index': 'Feature'})\n",
    "  summary['MissingValues'] = df.isnull().sum().values\n",
    "  summary['NUnique'] = df.nunique().values\n",
    "  summary['row_1'] = df.loc[0].values #1st row\n",
    "  summary['row_2'] = df.loc[1].values #2nd row\n",
    "  summary['row_-2'] = df.iloc[-2].values #2nd row from the back\n",
    "  summary['row_-1'] = df.iloc[-1].values #last row\n",
    "\n",
    "  return summary"
   ]
  },
  {
   "cell_type": "code",
   "execution_count": 13,
   "metadata": {
    "execution": {
     "iopub.execute_input": "2024-08-01T05:21:42.163253Z",
     "iopub.status.busy": "2024-08-01T05:21:42.162851Z",
     "iopub.status.idle": "2024-08-01T05:21:47.362949Z",
     "shell.execute_reply": "2024-08-01T05:21:47.361718Z",
     "shell.execute_reply.started": "2024-08-01T05:21:42.163222Z"
    },
    "trusted": true
   },
   "outputs": [
    {
     "name": "stdout",
     "output_type": "stream",
     "text": [
      "shape: (11504798, 12)\n"
     ]
    },
    {
     "data": {
      "text/html": [
       "<div>\n",
       "<style scoped>\n",
       "    .dataframe tbody tr th:only-of-type {\n",
       "        vertical-align: middle;\n",
       "    }\n",
       "\n",
       "    .dataframe tbody tr th {\n",
       "        vertical-align: top;\n",
       "    }\n",
       "\n",
       "    .dataframe thead th {\n",
       "        text-align: right;\n",
       "    }\n",
       "</style>\n",
       "<table border=\"1\" class=\"dataframe\">\n",
       "  <thead>\n",
       "    <tr style=\"text-align: right;\">\n",
       "      <th></th>\n",
       "      <th>Feature</th>\n",
       "      <th>Data type</th>\n",
       "      <th>MissingValues</th>\n",
       "      <th>NUnique</th>\n",
       "      <th>row_1</th>\n",
       "      <th>row_2</th>\n",
       "      <th>row_-2</th>\n",
       "      <th>row_-1</th>\n",
       "    </tr>\n",
       "  </thead>\n",
       "  <tbody>\n",
       "    <tr>\n",
       "      <th>0</th>\n",
       "      <td>id</td>\n",
       "      <td>int32</td>\n",
       "      <td>0</td>\n",
       "      <td>11504798</td>\n",
       "      <td>0</td>\n",
       "      <td>1</td>\n",
       "      <td>11504796</td>\n",
       "      <td>11504797</td>\n",
       "    </tr>\n",
       "    <tr>\n",
       "      <th>1</th>\n",
       "      <td>Gender</td>\n",
       "      <td>object</td>\n",
       "      <td>0</td>\n",
       "      <td>2</td>\n",
       "      <td>Male</td>\n",
       "      <td>Male</td>\n",
       "      <td>Female</td>\n",
       "      <td>Male</td>\n",
       "    </tr>\n",
       "    <tr>\n",
       "      <th>2</th>\n",
       "      <td>Age</td>\n",
       "      <td>int8</td>\n",
       "      <td>0</td>\n",
       "      <td>66</td>\n",
       "      <td>21</td>\n",
       "      <td>43</td>\n",
       "      <td>51</td>\n",
       "      <td>25</td>\n",
       "    </tr>\n",
       "    <tr>\n",
       "      <th>3</th>\n",
       "      <td>Driving_License</td>\n",
       "      <td>int8</td>\n",
       "      <td>0</td>\n",
       "      <td>2</td>\n",
       "      <td>1</td>\n",
       "      <td>1</td>\n",
       "      <td>1</td>\n",
       "      <td>1</td>\n",
       "    </tr>\n",
       "    <tr>\n",
       "      <th>4</th>\n",
       "      <td>Region_Code</td>\n",
       "      <td>float64</td>\n",
       "      <td>0</td>\n",
       "      <td>54</td>\n",
       "      <td>35.0</td>\n",
       "      <td>28.0</td>\n",
       "      <td>28.0</td>\n",
       "      <td>28.0</td>\n",
       "    </tr>\n",
       "    <tr>\n",
       "      <th>5</th>\n",
       "      <td>Previously_Insured</td>\n",
       "      <td>int64</td>\n",
       "      <td>0</td>\n",
       "      <td>2</td>\n",
       "      <td>0</td>\n",
       "      <td>0</td>\n",
       "      <td>0</td>\n",
       "      <td>1</td>\n",
       "    </tr>\n",
       "    <tr>\n",
       "      <th>6</th>\n",
       "      <td>Vehicle_Age</td>\n",
       "      <td>object</td>\n",
       "      <td>0</td>\n",
       "      <td>3</td>\n",
       "      <td>1-2 Year</td>\n",
       "      <td>&gt; 2 Years</td>\n",
       "      <td>1-2 Year</td>\n",
       "      <td>&lt; 1 Year</td>\n",
       "    </tr>\n",
       "    <tr>\n",
       "      <th>7</th>\n",
       "      <td>Vehicle_Damage</td>\n",
       "      <td>object</td>\n",
       "      <td>0</td>\n",
       "      <td>2</td>\n",
       "      <td>Yes</td>\n",
       "      <td>Yes</td>\n",
       "      <td>Yes</td>\n",
       "      <td>No</td>\n",
       "    </tr>\n",
       "    <tr>\n",
       "      <th>8</th>\n",
       "      <td>Annual_Premium</td>\n",
       "      <td>float64</td>\n",
       "      <td>0</td>\n",
       "      <td>51728</td>\n",
       "      <td>65101.0</td>\n",
       "      <td>58911.0</td>\n",
       "      <td>48443.0</td>\n",
       "      <td>32855.0</td>\n",
       "    </tr>\n",
       "    <tr>\n",
       "      <th>9</th>\n",
       "      <td>Policy_Sales_Channel</td>\n",
       "      <td>float64</td>\n",
       "      <td>0</td>\n",
       "      <td>152</td>\n",
       "      <td>124.0</td>\n",
       "      <td>26.0</td>\n",
       "      <td>26.0</td>\n",
       "      <td>152.0</td>\n",
       "    </tr>\n",
       "    <tr>\n",
       "      <th>10</th>\n",
       "      <td>Vintage</td>\n",
       "      <td>int64</td>\n",
       "      <td>0</td>\n",
       "      <td>290</td>\n",
       "      <td>187</td>\n",
       "      <td>288</td>\n",
       "      <td>274</td>\n",
       "      <td>189</td>\n",
       "    </tr>\n",
       "    <tr>\n",
       "      <th>11</th>\n",
       "      <td>Response</td>\n",
       "      <td>int64</td>\n",
       "      <td>0</td>\n",
       "      <td>2</td>\n",
       "      <td>0</td>\n",
       "      <td>1</td>\n",
       "      <td>1</td>\n",
       "      <td>0</td>\n",
       "    </tr>\n",
       "  </tbody>\n",
       "</table>\n",
       "</div>"
      ],
      "text/plain": [
       "                 Feature Data type  MissingValues   NUnique     row_1  \\\n",
       "0                     id     int32              0  11504798         0   \n",
       "1                 Gender    object              0         2      Male   \n",
       "2                    Age      int8              0        66        21   \n",
       "3        Driving_License      int8              0         2         1   \n",
       "4            Region_Code   float64              0        54      35.0   \n",
       "5     Previously_Insured     int64              0         2         0   \n",
       "6            Vehicle_Age    object              0         3  1-2 Year   \n",
       "7         Vehicle_Damage    object              0         2       Yes   \n",
       "8         Annual_Premium   float64              0     51728   65101.0   \n",
       "9   Policy_Sales_Channel   float64              0       152     124.0   \n",
       "10               Vintage     int64              0       290       187   \n",
       "11              Response     int64              0         2         0   \n",
       "\n",
       "        row_2    row_-2    row_-1  \n",
       "0           1  11504796  11504797  \n",
       "1        Male    Female      Male  \n",
       "2          43        51        25  \n",
       "3           1         1         1  \n",
       "4        28.0      28.0      28.0  \n",
       "5           0         0         1  \n",
       "6   > 2 Years  1-2 Year  < 1 Year  \n",
       "7         Yes       Yes        No  \n",
       "8     58911.0   48443.0   32855.0  \n",
       "9        26.0      26.0     152.0  \n",
       "10        288       274       189  \n",
       "11          1         1         0  "
      ]
     },
     "execution_count": 13,
     "metadata": {},
     "output_type": "execute_result"
    }
   ],
   "source": [
    "resumetable(train)"
   ]
  },
  {
   "cell_type": "markdown",
   "metadata": {},
   "source": [
    "## Downcasting"
   ]
  },
  {
   "cell_type": "markdown",
   "metadata": {},
   "source": [
    "> **We need a memory optimization by downcasting**"
   ]
  },
  {
   "cell_type": "code",
   "execution_count": null,
   "metadata": {
    "execution": {
     "iopub.execute_input": "2024-08-01T05:23:03.824429Z",
     "iopub.status.busy": "2024-08-01T05:23:03.823950Z",
     "iopub.status.idle": "2024-08-01T05:23:07.604093Z",
     "shell.execute_reply": "2024-08-01T05:23:07.603031Z",
     "shell.execute_reply.started": "2024-08-01T05:23:03.824390Z"
    },
    "trusted": true
   },
   "outputs": [
    {
     "name": "stdout",
     "output_type": "stream",
     "text": [
      "43.6% downcasting\n",
      "54.5% downcasting\n"
     ]
    },
    {
     "data": {
      "text/plain": [
       "(11504798, 12)"
      ]
     },
     "metadata": {},
     "output_type": "display_data"
    },
    {
     "data": {
      "text/plain": [
       "(7669866, 11)"
      ]
     },
     "metadata": {},
     "output_type": "display_data"
    },
    {
     "name": "stdout",
     "output_type": "stream",
     "text": [
      "Total row: 19174664 rows\n"
     ]
    }
   ],
   "source": [
    "def downcasting(df, verbose=True):\n",
    "  \"\"\"\n",
    "  데이터프레임의 메모리 사용량을 줄이기 위해 데이터 타입을 다운캐스팅\n",
    "  Args:\n",
    "    df: 다운캐스팅할 pandas DataFrame\n",
    "    verbose: True이면 다운캐스팅 진행 상황을 출력 (기본값: True)\n",
    "\n",
    "  Returns:\n",
    "    다운캐스팅된 pandas DataFrame\n",
    "  \"\"\"\n",
    "  start_mem = df.memory_usage().sum()/ 1024**2  # 데이터프레임의 초기 메모리 사용량을 MB 단위로 계산\n",
    "  for col in df.columns:\n",
    "    dtype_name = df[col].dtype.name\n",
    "    if dtype_name == 'object':  # 데이터 타입이 'object'인 경우\n",
    "      pass  # 아무 작업도 하지 않고 넘어갑니다. (다운캐스팅 불가)\n",
    "    elif dtype_name == 'bool':  # 데이터 타입이 'bool'인 경우\n",
    "      df[col] = df[col].astype('int8')  # 'int8' 타입으로 변환합니다. (True -> 1, False -> 0)\n",
    "    elif dtype_name.startswith('int') or (df[col].round()==df[col]).all(): \n",
    "      # 데이터 타입이 'int'로 시작하거나, 열의 모든 값이 정수인 경우\n",
    "      # (예: 1.0, 2.0과 같이 소수점 이하가 0인 경우)\n",
    "      df[col] = pd.to_numeric(df[col], downcast='integer')\n",
    "      # 'integer'로 다운캐스팅 가능한 가장 작은 정수 타입으로 변환합니다.\n",
    "      # (예: int64 -> int32, int16, int8 순서로)\n",
    "    else:  # 그 외의 경우 (float 등)\n",
    "      df[col] = pd.to_numeric(df[col], downcast='float') \n",
    "      # 'float'로 다운캐스팅 가능한 가장 작은 실수 타입으로 변환합니다.\n",
    "      # (예: float64 -> float32)\n",
    "  end_mem = df.memory_usage().sum()/1024**2  # 데이터프레임의 최종 메모리 사용량을 MB 단위로 계산합니다.\n",
    "  if verbose:  # verbose가 True인 경우\n",
    "    print('{:.1f}% downcasting'.format(100*(start_mem - end_mem)/start_mem)) \n",
    "    # 메모리 사용량 감소율을 출력합니다.\n",
    "    # (시작 메모리 - 종료 메모리) / 시작 메모리 * 100\n",
    "  return df  # 다운캐스팅된 데이터프레임을 반환합니다.\n",
    "\n",
    "downcasting(train)\n",
    "downcasting(test)\n",
    "\n",
    "display(train.shape, test.shape)\n",
    "print(f'Total row: {train.shape[0] + test.shape[0]} rows')"
   ]
  },
  {
   "cell_type": "code",
   "execution_count": null,
   "metadata": {
    "execution": {
     "iopub.execute_input": "2024-08-01T05:23:07.606604Z",
     "iopub.status.busy": "2024-08-01T05:23:07.606189Z",
     "iopub.status.idle": "2024-08-01T05:23:07.684754Z",
     "shell.execute_reply": "2024-08-01T05:23:07.683690Z",
     "shell.execute_reply.started": "2024-08-01T05:23:07.606568Z"
    },
    "trusted": true
   },
   "outputs": [
    {
     "data": {
      "text/plain": [
       "(700, 10, 10)"
      ]
     },
     "metadata": {},
     "output_type": "display_data"
    },
    {
     "data": {
      "text/plain": [
       "(69, 4, 0)"
      ]
     },
     "metadata": {},
     "output_type": "display_data"
    },
    {
     "data": {
      "text/plain": [
       "37"
      ]
     },
     "execution_count": 16,
     "metadata": {},
     "output_type": "execute_result"
    }
   ],
   "source": [
    "# 사용하지 않는 메모리 회수\n",
    "import gc\n",
    "display(gc.get_threshold(), gc.get_count())\n",
    "# gc.get_threshold(): garbage collention의 임계값을 튜플 형태로 반환. 0세대 -> 1세대 -> 2세대\n",
    "# gc.get_count(): 현재 각 세대별 수집 객체 수를 튜플 형태로 반환\n",
    "# gc.set_debug()\n",
    "\n",
    "gc.collect()"
   ]
  },
  {
   "cell_type": "markdown",
   "metadata": {},
   "source": [
    "# EDA"
   ]
  },
  {
   "cell_type": "markdown",
   "metadata": {},
   "source": [
    "## check a data distribution"
   ]
  },
  {
   "cell_type": "code",
   "execution_count": 17,
   "metadata": {
    "execution": {
     "iopub.execute_input": "2024-08-01T05:25:26.823490Z",
     "iopub.status.busy": "2024-08-01T05:25:26.822544Z",
     "iopub.status.idle": "2024-08-01T05:25:27.405976Z",
     "shell.execute_reply": "2024-08-01T05:25:27.404879Z",
     "shell.execute_reply.started": "2024-08-01T05:25:26.823455Z"
    },
    "trusted": true
   },
   "outputs": [],
   "source": [
    "from matplotlib import pyplot as plt\n",
    "import seaborn as sns\n",
    "%matplotlib inline\n",
    "\n",
    "from scipy import stats\n",
    "import warnings\n",
    "warnings.filterwarnings('ignore')"
   ]
  },
  {
   "cell_type": "code",
   "execution_count": null,
   "metadata": {
    "execution": {
     "iopub.execute_input": "2024-08-01T05:25:27.407999Z",
     "iopub.status.busy": "2024-08-01T05:25:27.407691Z",
     "iopub.status.idle": "2024-08-01T05:25:31.109304Z",
     "shell.execute_reply": "2024-08-01T05:25:31.107958Z",
     "shell.execute_reply.started": "2024-08-01T05:25:27.407972Z"
    },
    "trusted": true
   },
   "outputs": [
    {
     "data": {
      "image/png": "[encoded data removed]",
      "text/plain": [
       "<Figure size 2500x2000 with 8 Axes>"
      ]
     },
     "metadata": {},
     "output_type": "display_data"
    }
   ],
   "source": [
    "viz = []\n",
    "for i in train.columns:\n",
    "    if train[i].dtypes == 'object':\n",
    "        pass\n",
    "    else:\n",
    "        viz.append(i)\n",
    "\n",
    "plt.style.use(\"ggplot\")\n",
    "plt.figure(figsize=(25,20))\n",
    "plt.suptitle(\"Histogram\", fontsize=40)\n",
    "        \n",
    "for i in range(len(viz)-1):\n",
    "    plt.subplot(5,5,i+1)\n",
    "    plt.title(viz[i+1], fontsize=20)\n",
    "    \n",
    "    if len(train[viz[i+1]].unique())>20:\n",
    "        plt.hist(train[viz[i+1]], bins=20, color='b', alpha=0.8)\n",
    "    else:\n",
    "        temp = train[viz[i+1]].value_counts()\n",
    "        plt.bar(temp.keys(), temp.values, width=0.5, alpha=0.7)\n",
    "        plt.xticks(temp.keys())\n",
    "\n",
    "plt.tight_layout(rect=[0, 0.3, 1, 0.95]) # 왼쪽, 아래, 오른쪽, 위\n",
    "plt.show()"
   ]
  },
  {
   "cell_type": "markdown",
   "metadata": {},
   "source": [
    "- Age, Driving_License, Annual_Premium, Policy_Sales_Channel, Response features are looks imbalaced."
   ]
  },
  {
   "cell_type": "code",
   "execution_count": 21,
   "metadata": {
    "execution": {
     "iopub.execute_input": "2024-08-01T05:25:33.666849Z",
     "iopub.status.busy": "2024-08-01T05:25:33.666036Z",
     "iopub.status.idle": "2024-08-01T05:25:33.738552Z",
     "shell.execute_reply": "2024-08-01T05:25:33.737379Z",
     "shell.execute_reply.started": "2024-08-01T05:25:33.666815Z"
    },
    "trusted": true
   },
   "outputs": [
    {
     "data": {
      "text/plain": [
       "Driving_License\n",
       "1    11482041\n",
       "0       22757\n",
       "Name: count, dtype: int64"
      ]
     },
     "execution_count": 21,
     "metadata": {},
     "output_type": "execute_result"
    }
   ],
   "source": [
    "train['Driving_License'].value_counts()"
   ]
  },
  {
   "cell_type": "code",
   "execution_count": 22,
   "metadata": {
    "execution": {
     "iopub.execute_input": "2024-08-01T05:25:33.820035Z",
     "iopub.status.busy": "2024-08-01T05:25:33.819666Z",
     "iopub.status.idle": "2024-08-01T05:25:33.906932Z",
     "shell.execute_reply": "2024-08-01T05:25:33.905532Z",
     "shell.execute_reply.started": "2024-08-01T05:25:33.820003Z"
    },
    "trusted": true
   },
   "outputs": [
    {
     "data": {
      "text/plain": [
       "Annual_Premium\n",
       "2630     2112561\n",
       "38287       6363\n",
       "39008       5285\n",
       "38452       4721\n",
       "28861       4671\n",
       "          ...   \n",
       "77839          1\n",
       "67126          1\n",
       "15999          1\n",
       "59067          1\n",
       "64538          1\n",
       "Name: count, Length: 51728, dtype: int64"
      ]
     },
     "execution_count": 22,
     "metadata": {},
     "output_type": "execute_result"
    }
   ],
   "source": [
    "train['Annual_Premium'].value_counts()"
   ]
  },
  {
   "cell_type": "code",
   "execution_count": 23,
   "metadata": {
    "execution": {
     "iopub.execute_input": "2024-08-01T05:25:36.121297Z",
     "iopub.status.busy": "2024-08-01T05:25:36.120910Z",
     "iopub.status.idle": "2024-08-01T05:25:36.801963Z",
     "shell.execute_reply": "2024-08-01T05:25:36.800965Z",
     "shell.execute_reply.started": "2024-08-01T05:25:36.121266Z"
    },
    "trusted": true
   },
   "outputs": [],
   "source": [
    "box_data = train[viz]\n",
    "box_data['target'] = train['Response'].values\n",
    "box_data.drop(columns = ['id', 'Response', 'Driving_License'], axis=1, inplace=True)"
   ]
  },
  {
   "cell_type": "code",
   "execution_count": 24,
   "metadata": {
    "execution": {
     "iopub.execute_input": "2024-08-01T05:25:36.804297Z",
     "iopub.status.busy": "2024-08-01T05:25:36.803777Z",
     "iopub.status.idle": "2024-08-01T05:25:55.229398Z",
     "shell.execute_reply": "2024-08-01T05:25:55.228368Z",
     "shell.execute_reply.started": "2024-08-01T05:25:36.804257Z"
    },
    "trusted": true
   },
   "outputs": [
    {
     "data": {
      "image/png": "[encoded data removed]",
      "text/plain": [
       "<Figure size 2500x1000 with 6 Axes>"
      ]
     },
     "metadata": {},
     "output_type": "display_data"
    }
   ],
   "source": [
    "fig, axes = plt.subplots(2, 3, figsize=(25, 10))\n",
    "\n",
    "for ax, col in zip(axes.flat, box_data.columns[:-1]):\n",
    "    sns.boxplot(x='target', y=col, ax=ax, data=box_data) #target is 'Response'\n",
    "    ax.set_title(col, fontsize=20)\n",
    "\n",
    "plt.tight_layout(rect=[0, 0.03, 1, 0.95])\n",
    "plt.show()"
   ]
  },
  {
   "cell_type": "code",
   "execution_count": 29,
   "metadata": {
    "execution": {
     "iopub.execute_input": "2024-08-01T05:29:46.916170Z",
     "iopub.status.busy": "2024-08-01T05:29:46.915476Z",
     "iopub.status.idle": "2024-08-01T05:29:47.944581Z",
     "shell.execute_reply": "2024-08-01T05:29:47.943334Z",
     "shell.execute_reply.started": "2024-08-01T05:29:46.916134Z"
    },
    "trusted": true
   },
   "outputs": [
    {
     "name": "stdout",
     "output_type": "stream",
     "text": [
      "Skewness of Age: 0.63727777028377\n",
      "Skewness of Region_Code: -0.13077330589294434\n",
      "Skewness of Previously_Insured: 0.14842075311726782\n",
      "Skewness of Annual_Premium: 0.7769368302401036\n",
      "Skewness of Policy_Sales_Channel: -0.91508208339766\n",
      "Skewness of Vintage: -0.10813312009469143\n",
      "Skewness of target: 2.2957589163109744\n"
     ]
    }
   ],
   "source": [
    "for i in box_data.columns:\n",
    "    print(f'Skewness of {i}: {box_data[i].skew()}')"
   ]
  },
  {
   "cell_type": "markdown",
   "metadata": {},
   "source": [
    "- Skewness = 0: 데이터 분포 완벽 대칭. 평균, 중앙값, 최빈값 모두 동일\n",
    "- Skewness > 0: Posivive Skew(오른쪽 꼬리 분포). 중앙값<평균(극단 값이 오른쪽에 분포)\n",
    "- Skenness < 0: Negative Skew(왼쪽 꼬리 분포). 중앙값>평균(극단 값이 왼쪽에 분포)\n",
    "- 절대값이 클 수록 비대칭 정도가 심하다\n",
    "- target의 경우 큰 양의 왜도이므로 대부분 0일 가능성이 높음 -> stratified 옵션 사용"
   ]
  },
  {
   "cell_type": "markdown",
   "metadata": {},
   "source": [
    "- We'll have to check this values(Especially Age, Previously_Insured, Annual_Premium, Policy_Sales_Channel)\n",
    "> **Since we participated in the competition late, efficient choice was the most important thing.\n",
    "The skewness is close to zero, so I didn't do any big work.\n",
    "However, these tasks seem necessary if you participate in the next competition.**"
   ]
  },
  {
   "cell_type": "markdown",
   "metadata": {},
   "source": [
    "# Feature Engineering"
   ]
  },
  {
   "cell_type": "markdown",
   "metadata": {},
   "source": [
    "## Concat"
   ]
  },
  {
   "cell_type": "code",
   "execution_count": 30,
   "metadata": {
    "execution": {
     "iopub.execute_input": "2024-08-01T05:37:08.534080Z",
     "iopub.status.busy": "2024-08-01T05:37:08.532144Z",
     "iopub.status.idle": "2024-08-01T05:37:12.149028Z",
     "shell.execute_reply": "2024-08-01T05:37:12.147703Z",
     "shell.execute_reply.started": "2024-08-01T05:37:08.534029Z"
    },
    "trusted": true
   },
   "outputs": [
    {
     "data": {
      "text/plain": [
       "(19174664, 10)"
      ]
     },
     "execution_count": 30,
     "metadata": {},
     "output_type": "execute_result"
    }
   ],
   "source": [
    "all_data = pd.concat([train, test], ignore_index = True)\n",
    "all_data = all_data.drop(['id', 'Response'], axis = 1) #After processing, drop 'Response' col.\n",
    "all_data.shape"
   ]
  },
  {
   "cell_type": "markdown",
   "metadata": {},
   "source": [
    "## Encoding"
   ]
  },
  {
   "cell_type": "markdown",
   "metadata": {},
   "source": [
    "> **I didn't ohe the whole data. I only did it for categorical features. Because when I train models, it's less efficient in speed(time).**"
   ]
  },
  {
   "cell_type": "code",
   "execution_count": 31,
   "metadata": {
    "execution": {
     "iopub.execute_input": "2024-08-01T05:37:19.511206Z",
     "iopub.status.busy": "2024-08-01T05:37:19.510819Z",
     "iopub.status.idle": "2024-08-01T05:37:22.511392Z",
     "shell.execute_reply": "2024-08-01T05:37:22.510229Z",
     "shell.execute_reply.started": "2024-08-01T05:37:19.511177Z"
    },
    "trusted": true
   },
   "outputs": [],
   "source": [
    "# - Gender(M/F)\n",
    "# - VA(<1, 1-2, 2>)\n",
    "# - VD(Y/N)\n",
    "\n",
    "from sklearn.preprocessing import LabelEncoder, OneHotEncoder\n",
    "\n",
    "all_data_en = all_data.copy()"
   ]
  },
  {
   "cell_type": "code",
   "execution_count": null,
   "metadata": {
    "execution": {
     "iopub.execute_input": "2024-08-01T05:37:30.564175Z",
     "iopub.status.busy": "2024-08-01T05:37:30.563794Z",
     "iopub.status.idle": "2024-08-01T05:37:47.118412Z",
     "shell.execute_reply": "2024-08-01T05:37:47.117318Z",
     "shell.execute_reply.started": "2024-08-01T05:37:30.564148Z"
    },
    "trusted": true
   },
   "outputs": [
    {
     "data": {
      "text/plain": [
       "<19174664x7 sparse matrix of type '<class 'numpy.float64'>'\n",
       "\twith 57523992 stored elements in Compressed Sparse Row format>"
      ]
     },
     "execution_count": 32,
     "metadata": {},
     "output_type": "execute_result"
    }
   ],
   "source": [
    "cat = ['Gender', 'Vehicle_Age', 'Vehicle_Damage']\n",
    "\n",
    "ohe = OneHotEncoder()\n",
    "\n",
    "# train_en = train_en.apply(lambda x: le.fit_transform(x))\n",
    "all_data_en_matrix = ohe.fit_transform(all_data_en[cat]) # sparse matrix\n",
    "all_data_en_matrix"
   ]
  },
  {
   "cell_type": "code",
   "execution_count": null,
   "metadata": {
    "execution": {
     "iopub.execute_input": "2024-08-01T05:37:47.138363Z",
     "iopub.status.busy": "2024-08-01T05:37:47.138012Z",
     "iopub.status.idle": "2024-08-01T05:37:57.205131Z",
     "shell.execute_reply": "2024-08-01T05:37:57.203932Z",
     "shell.execute_reply.started": "2024-08-01T05:37:47.138334Z"
    },
    "trusted": true
   },
   "outputs": [],
   "source": [
    "# sparse matrix 장점: ohe 적용 -> 0이 많아지므로 메모리 사용량을 줄이기 위해 사용, 바로 모델 학습에 사용 가능\n",
    "from scipy import sparse\n",
    "\n",
    "all_data_en = all_data_en.drop(cat, axis=1)\n",
    "all_data_en_sprs = sparse.hstack([sparse.csr_matrix(all_data_en),\n",
    "                        all_data_en_matrix],\n",
    "                        format='csr')\n",
    "# sparse matrix를 가로로 합하기(hstack)\n",
    "# all_data_en 데이터프레임을 csr_matrix로 변환하고 ohe 적용한 sparse matrix랑 병합, 포맷은 csr"
   ]
  },
  {
   "cell_type": "code",
   "execution_count": 35,
   "metadata": {
    "execution": {
     "iopub.execute_input": "2024-08-01T05:37:57.207458Z",
     "iopub.status.busy": "2024-08-01T05:37:57.207076Z",
     "iopub.status.idle": "2024-08-01T05:37:57.214674Z",
     "shell.execute_reply": "2024-08-01T05:37:57.213558Z",
     "shell.execute_reply.started": "2024-08-01T05:37:57.207427Z"
    },
    "trusted": true
   },
   "outputs": [
    {
     "data": {
      "text/plain": [
       "<19174664x14 sparse matrix of type '<class 'numpy.float64'>'\n",
       "\twith 181313867 stored elements in Compressed Sparse Row format>"
      ]
     },
     "execution_count": 35,
     "metadata": {},
     "output_type": "execute_result"
    }
   ],
   "source": [
    "all_data_en_sprs"
   ]
  },
  {
   "cell_type": "code",
   "execution_count": 36,
   "metadata": {
    "execution": {
     "iopub.execute_input": "2024-08-01T05:41:14.445345Z",
     "iopub.status.busy": "2024-08-01T05:41:14.444892Z",
     "iopub.status.idle": "2024-08-01T05:41:18.613326Z",
     "shell.execute_reply": "2024-08-01T05:41:18.609835Z",
     "shell.execute_reply.started": "2024-08-01T05:41:14.445315Z"
    },
    "trusted": true
   },
   "outputs": [],
   "source": [
    "num_train = len(train)\n",
    "\n",
    "X = all_data_en_sprs[:num_train] #X_train\n",
    "X_test = all_data_en_sprs[num_train:] #test\n",
    "y = train['Response'].values #y_train"
   ]
  },
  {
   "cell_type": "markdown",
   "metadata": {},
   "source": [
    "# Modeling"
   ]
  },
  {
   "cell_type": "markdown",
   "metadata": {},
   "source": [
    "> **We also used XGB, CATB. It proceeded with the similar process as LGBM.**\n",
    "\n",
    "> **If you modify the code a little bit, you can proceed with the ensemble as well.\n",
    "In this notebook, I've only done it for LGBM with Optuna library, and I reveal it.**"
   ]
  },
  {
   "cell_type": "code",
   "execution_count": 38,
   "metadata": {
    "execution": {
     "iopub.execute_input": "2024-08-01T05:42:10.371061Z",
     "iopub.status.busy": "2024-08-01T05:42:10.370613Z",
     "iopub.status.idle": "2024-08-01T05:42:24.903589Z",
     "shell.execute_reply": "2024-08-01T05:42:24.902098Z",
     "shell.execute_reply.started": "2024-08-01T05:42:10.371029Z"
    },
    "trusted": true
   },
   "outputs": [
    {
     "name": "stdout",
     "output_type": "stream",
     "text": [
      "Collecting optuna-integration\n",
      "  Downloading optuna_integration-3.6.0-py3-none-any.whl.metadata (10 kB)\n",
      "Requirement already satisfied: optuna in /opt/conda/lib/python3.10/site-packages (from optuna-integration) (3.6.1)\n",
      "Requirement already satisfied: alembic>=1.5.0 in /opt/conda/lib/python3.10/site-packages (from optuna->optuna-integration) (1.13.2)\n",
      "Requirement already satisfied: colorlog in /opt/conda/lib/python3.10/site-packages (from optuna->optuna-integration) (6.8.2)\n",
      "Requirement already satisfied: numpy in /opt/conda/lib/python3.10/site-packages (from optuna->optuna-integration) (1.26.4)\n",
      "Requirement already satisfied: packaging>=20.0 in /opt/conda/lib/python3.10/site-packages (from optuna->optuna-integration) (21.3)\n",
      "Requirement already satisfied: sqlalchemy>=1.3.0 in /opt/conda/lib/python3.10/site-packages (from optuna->optuna-integration) (2.0.25)\n",
      "Requirement already satisfied: tqdm in /opt/conda/lib/python3.10/site-packages (from optuna->optuna-integration) (4.66.4)\n",
      "Requirement already satisfied: PyYAML in /opt/conda/lib/python3.10/site-packages (from optuna->optuna-integration) (6.0.1)\n",
      "Requirement already satisfied: Mako in /opt/conda/lib/python3.10/site-packages (from alembic>=1.5.0->optuna->optuna-integration) (1.3.5)\n",
      "Requirement already satisfied: typing-extensions>=4 in /opt/conda/lib/python3.10/site-packages (from alembic>=1.5.0->optuna->optuna-integration) (4.9.0)\n",
      "Requirement already satisfied: pyparsing!=3.0.5,>=2.0.2 in /opt/conda/lib/python3.10/site-packages (from packaging>=20.0->optuna->optuna-integration) (3.1.1)\n",
      "Requirement already satisfied: greenlet!=0.4.17 in /opt/conda/lib/python3.10/site-packages (from sqlalchemy>=1.3.0->optuna->optuna-integration) (3.0.3)\n",
      "Requirement already satisfied: MarkupSafe>=0.9.2 in /opt/conda/lib/python3.10/site-packages (from Mako->alembic>=1.5.0->optuna->optuna-integration) (2.1.3)\n",
      "Downloading optuna_integration-3.6.0-py3-none-any.whl (93 kB)\n",
      "\u001b[2K   \u001b[90m━━━━━━━━━━━━━━━━━━━━━━━━━━━━━━━━━━━━━━━━\u001b[0m \u001b[32m93.4/93.4 kB\u001b[0m \u001b[31m1.9 MB/s\u001b[0m eta \u001b[36m0:00:00\u001b[0m00:01\u001b[0m\n",
      "\u001b[?25hInstalling collected packages: optuna-integration\n",
      "Successfully installed optuna-integration-3.6.0\n",
      "Note: you may need to restart the kernel to use updated packages.\n"
     ]
    }
   ],
   "source": [
    "pip install optuna-integration"
   ]
  },
  {
   "cell_type": "code",
   "execution_count": null,
   "metadata": {
    "execution": {
     "iopub.execute_input": "2024-08-01T05:42:24.906434Z",
     "iopub.status.busy": "2024-08-01T05:42:24.906053Z",
     "iopub.status.idle": "2024-08-01T05:42:25.408996Z",
     "shell.execute_reply": "2024-08-01T05:42:25.407991Z",
     "shell.execute_reply.started": "2024-08-01T05:42:24.906400Z"
    },
    "trusted": true
   },
   "outputs": [],
   "source": [
    "import warnings\n",
    "warnings.filterwarnings(\"ignore\")\n",
    "import datetime\n",
    "from xgboost import XGBClassifier\n",
    "import xgboost as xgb\n",
    "from catboost import CatBoostClassifier\n",
    "from lightgbm import LGBMClassifier\n",
    "from sklearn.base import clone\n",
    "from lightgbm import early_stopping # 성능 개선 미미 & 과적합 -> 조기 종료\n",
    "from lightgbm import log_evaluation # 학습 진행 상황 로그로 기록 -> 디버깅용\n",
    "\n",
    "#model evaluation\n",
    "from sklearn.model_selection import cross_val_score, cross_validate\n",
    "from sklearn.model_selection import StratifiedKFold\n",
    "from sklearn.model_selection import train_test_split\n",
    "from sklearn.metrics import roc_auc_score, log_loss, auc, accuracy_score\n",
    "\n",
    "# Optuna and visualization tools\n",
    "import optuna\n",
    "from optuna.trial import Trial\n",
    "from optuna.integration import LightGBMPruningCallback\n",
    "\n",
    "from optuna.visualization import plot_intermediate_values\n",
    "from optuna.visualization import plot_parallel_coordinate\n",
    "from optuna.visualization import plot_param_importances"
   ]
  },
  {
   "cell_type": "markdown",
   "metadata": {},
   "source": [
    "## Optuna"
   ]
  },
  {
   "cell_type": "markdown",
   "metadata": {},
   "source": [
    "- **.suggest_** : it helps you find to hyperparameters\n",
    "- **.create study** : https://optuna.readthedocs.io/en/v2.0.0/reference/alias_generated/optuna.create_study.html\n",
    "- **.optimize** : i recommand you to n_jobs=-1. I'm not sure about the technical part, but this setup will help you with parallelization.\n",
    "\n",
    "> ref: https://optuna.readthedocs.io/en/stable/index.html "
   ]
  },
  {
   "cell_type": "code",
   "execution_count": null,
   "metadata": {
    "execution": {
     "iopub.execute_input": "2024-07-31T15:07:18.124245Z",
     "iopub.status.busy": "2024-07-31T15:07:18.123196Z",
     "iopub.status.idle": "2024-07-31T15:07:18.137533Z",
     "shell.execute_reply": "2024-07-31T15:07:18.136178Z",
     "shell.execute_reply.started": "2024-07-31T15:07:18.124198Z"
    },
    "trusted": true
   },
   "outputs": [],
   "source": [
    "def objective(trial):\n",
    "    params = {\n",
    "    'boosting_type':'gbdt', \n",
    "    # defalut(gbdt), dart: 과적합 방지 효과, goss: 속도에 이점, rf: randomforest\n",
    "    'n_estimators':trial.suggest_int('n_estimators', 100, 1000, step = 100), # n_estimators: 트리 개수 결정\n",
    "    'max_bin':trial.suggest_int('max_bin', 1000, 30000), \n",
    "    # max_bin: 숫자형 feature 값 구간(bin) 지정, 클 수록 세밀하게 나눌 수 있으나 과적합 위험\n",
    "    'subsample':trial.suggest_categorical('subsample', [0.8, 0.9, 1.0]), \n",
    "    #샘플링 비율 선택, 과적합 방지(너무 작으면 underfitting)\n",
    "    'subsample_freq':trial.suggest_int('subsample_freq', 1, 8), \n",
    "    #subsample_freq: subsample_freq=1이면 매 트리 학습 시 데이터 샘플링 수행, 낮을 수록 과적합 방지\n",
    "    'colsample_bytree':trial.suggest_categorical('colsample_bytree', [0.3, 0.45, 0.6, 0.75, 0.9]), \n",
    "    # 각 트리 학습 시 사용할 feature의 샘플링 비율 결정(0.5 = 전체 feature의 50%만 무작위로 선택해서 트리 학습)\n",
    "    # 과적합 방지(너무 작으면 underfitting)\n",
    "    'num_leaves':trial.suggest_int('num_leaves', 2, 300),\n",
    "    # num_leaves: 각 트리에서 가질 수 있는 최대 리프 노드의 개수 결정(클 수록 복잡하고 과적합 위험)\n",
    "#     'skip_drop':trial.suggest_float('skip_drop', 0.7, 0.9), # dart 옵션 시 사용. drop할 트리 개수\n",
    "    'max_depth':-1, # max depth: -1 옵션(트리 깊이 제한 없음), 깊을 수록 모델 복잡하고 과적합 위험\n",
    "    'learning_rate':0.1, # 작을 수록 과적합\n",
    "    'n_jobs':-1, # CPU 코어\n",
    "    'early_stopping_round': 50, # 50라운드 설정\n",
    "    'random_state':101,\n",
    "    'verbose':-1, # 로그 출력(>0: 진행 상황 출력, 0: 경고 외 출력 x, -1: 아무 메세지 출력 x)\n",
    "    }\n",
    "    \n",
    "    X_train, X_val, y_train, y_val = train_test_split(X, y, test_size = 0.1, stratify = y, random_state=101)\n",
    "    # Train the model\n",
    "    model = LGBMClassifier(**params)\n",
    "    pruning_callback = LightGBMPruningCallback(trial, \"binary_logloss\", valid_name=\"validation_0\") # 검증 데이터셋 validation_0\n",
    "    model.fit(X_train, y_train,\n",
    "              eval_set=[(X_val, y_val)],\n",
    "              eval_names=[\"validation_0\"],\n",
    "              callbacks=[early_stopping(stopping_rounds=50), pruning_callback], #when use dart, don't use the 'early_stopping'\n",
    "              eval_metric='auc'\n",
    "              ) # 50 라운드 동안 성능 개선이 없으면 early stopping\n",
    "\n",
    "    # Predict probabilities\n",
    "    y_pred = model.predict_proba(X_val)[:, 1] # X_val에 대한 각 클래스별 예측 확률 계산 -> 클래스 1 확률만 선택\n",
    "\n",
    "    # Evaluate the model\n",
    "    auc = roc_auc_score(y_val, y_pred)\n",
    "\n",
    "    return auc"
   ]
  },
  {
   "cell_type": "code",
   "execution_count": null,
   "metadata": {
    "execution": {
     "iopub.execute_input": "2024-07-31T15:07:19.951213Z",
     "iopub.status.busy": "2024-07-31T15:07:19.950241Z"
    },
    "trusted": true
   },
   "outputs": [
    {
     "name": "stderr",
     "output_type": "stream",
     "text": [
      "[I 2024-07-31 15:07:19,953] A new study created in memory with name: no-name-c440f3bf-2cf2-4812-a4cc-e15beb663de1\n"
     ]
    },
    {
     "name": "stdout",
     "output_type": "stream",
     "text": [
      "Training until validation scores don't improve for 50 rounds\n",
      "Training until validation scores don't improve for 50 rounds\n",
      "Training until validation scores don't improve for 50 rounds\n",
      "Training until validation scores don't improve for 50 rounds\n"
     ]
    },
    {
     "name": "stderr",
     "output_type": "stream",
     "text": [
      "[I 2024-07-31 15:27:22,411] Trial 1 finished with value: 0.8853223012999241 and parameters: {'n_estimators': 900, 'max_bin': 21972, 'subsample': 0.8, 'subsample_freq': 2, 'colsample_bytree': 0.45, 'num_leaves': 291}. Best is trial 1 with value: 0.8853223012999241.\n"
     ]
    },
    {
     "name": "stdout",
     "output_type": "stream",
     "text": [
      "Training until validation scores don't improve for 50 rounds\n"
     ]
    },
    {
     "name": "stderr",
     "output_type": "stream",
     "text": [
      "[I 2024-07-31 15:29:49,462] Trial 0 finished with value: 0.8830894277885669 and parameters: {'n_estimators': 600, 'max_bin': 25036, 'subsample': 1.0, 'subsample_freq': 1, 'colsample_bytree': 0.45, 'num_leaves': 56}. Best is trial 0 with value: 0.8830894277885669.\n"
     ]
    },
    {
     "name": "stdout",
     "output_type": "stream",
     "text": [
      "Training until validation scores don't improve for 50 rounds\n"
     ]
    },
    {
     "name": "stderr",
     "output_type": "stream",
     "text": [
      "[I 2024-07-31 15:37:17,843] Trial 2 finished with value: 0.8860864698481412 and parameters: {'n_estimators': 900, 'max_bin': 18410, 'subsample': 1.0, 'subsample_freq': 2, 'colsample_bytree': 0.3, 'num_leaves': 194}. Best is trial 0 with value: 0.8830894277885669.\n",
      "[I 2024-07-31 15:38:35,052] Trial 3 finished with value: 0.8854240675227951 and parameters: {'n_estimators': 500, 'max_bin': 15876, 'subsample': 1.0, 'subsample_freq': 7, 'colsample_bytree': 0.3, 'num_leaves': 124}. Best is trial 0 with value: 0.8830894277885669.\n"
     ]
    },
    {
     "name": "stdout",
     "output_type": "stream",
     "text": [
      "Training until validation scores don't improve for 50 rounds\n",
      "Training until validation scores don't improve for 50 rounds\n"
     ]
    },
    {
     "name": "stderr",
     "output_type": "stream",
     "text": [
      "[I 2024-07-31 16:17:38,233] Trial 6 finished with value: 0.8800600329557733 and parameters: {'n_estimators': 900, 'max_bin': 17052, 'subsample': 0.8, 'subsample_freq': 4, 'colsample_bytree': 0.75, 'num_leaves': 54}. Best is trial 6 with value: 0.8800600329557733.\n",
      "[I 2024-07-31 16:17:52,073] Trial 5 pruned. Trial was pruned at iteration 314.\n"
     ]
    },
    {
     "name": "stdout",
     "output_type": "stream",
     "text": [
      "Training until validation scores don't improve for 50 rounds\n",
      "Training until validation scores don't improve for 50 rounds\n"
     ]
    },
    {
     "name": "stderr",
     "output_type": "stream",
     "text": [
      "[I 2024-07-31 16:19:48,167] Trial 9 pruned. Trial was pruned at iteration 1.\n",
      "[I 2024-07-31 16:21:26,863] Trial 10 pruned. Trial was pruned at iteration 0.\n"
     ]
    },
    {
     "name": "stdout",
     "output_type": "stream",
     "text": [
      "Training until validation scores don't improve for 50 rounds\n"
     ]
    },
    {
     "name": "stderr",
     "output_type": "stream",
     "text": [
      "[I 2024-07-31 16:26:30,096] Trial 4 finished with value: 0.8837867163683691 and parameters: {'n_estimators': 500, 'max_bin': 13633, 'subsample': 0.9, 'subsample_freq': 4, 'colsample_bytree': 0.45, 'num_leaves': 149}. Best is trial 6 with value: 0.8800600329557733.\n"
     ]
    },
    {
     "name": "stdout",
     "output_type": "stream",
     "text": [
      "Training until validation scores don't improve for 50 rounds\n"
     ]
    },
    {
     "name": "stderr",
     "output_type": "stream",
     "text": [
      "[I 2024-07-31 16:41:42,388] Trial 7 finished with value: 0.8841577138464647 and parameters: {'n_estimators': 300, 'max_bin': 6774, 'subsample': 0.8, 'subsample_freq': 8, 'colsample_bytree': 0.3, 'num_leaves': 156}. Best is trial 6 with value: 0.8800600329557733.\n"
     ]
    },
    {
     "name": "stdout",
     "output_type": "stream",
     "text": [
      "Training until validation scores don't improve for 50 rounds\n",
      "Early stopping, best iteration is:\n",
      "[73]\tvalidation_0's auc: 0.881518\tvalidation_0's binary_logloss: 0.250842\n"
     ]
    },
    {
     "name": "stderr",
     "output_type": "stream",
     "text": [
      "[I 2024-07-31 16:57:02,010] Trial 11 finished with value: 0.8815176282303769 and parameters: {'n_estimators': 800, 'max_bin': 3070, 'subsample': 0.9, 'subsample_freq': 4, 'colsample_bytree': 0.75, 'num_leaves': 225}. Best is trial 6 with value: 0.8800600329557733.\n"
     ]
    },
    {
     "name": "stdout",
     "output_type": "stream",
     "text": [
      "Training until validation scores don't improve for 50 rounds\n",
      "Early stopping, best iteration is:\n",
      "[194]\tvalidation_0's auc: 0.88393\tvalidation_0's binary_logloss: 0.249272\n"
     ]
    },
    {
     "name": "stderr",
     "output_type": "stream",
     "text": [
      "[I 2024-07-31 17:00:02,975] Trial 12 pruned. Trial was pruned at iteration 123.\n",
      "[I 2024-07-31 17:01:20,624] Trial 8 finished with value: 0.8839304310367081 and parameters: {'n_estimators': 700, 'max_bin': 8373, 'subsample': 1.0, 'subsample_freq': 7, 'colsample_bytree': 0.45, 'num_leaves': 159}. Best is trial 6 with value: 0.8800600329557733.\n"
     ]
    },
    {
     "name": "stdout",
     "output_type": "stream",
     "text": [
      "Training until validation scores don't improve for 50 rounds\n",
      "Training until validation scores don't improve for 50 rounds\n"
     ]
    },
    {
     "name": "stderr",
     "output_type": "stream",
     "text": [
      "[I 2024-07-31 17:09:37,608] Trial 13 pruned. Trial was pruned at iteration 109.\n"
     ]
    },
    {
     "name": "stdout",
     "output_type": "stream",
     "text": [
      "Training until validation scores don't improve for 50 rounds\n"
     ]
    },
    {
     "name": "stderr",
     "output_type": "stream",
     "text": [
      "[I 2024-07-31 17:29:38,539] Trial 14 pruned. Trial was pruned at iteration 124.\n"
     ]
    },
    {
     "name": "stdout",
     "output_type": "stream",
     "text": [
      "Training until validation scores don't improve for 50 rounds\n"
     ]
    },
    {
     "name": "stderr",
     "output_type": "stream",
     "text": [
      "[I 2024-07-31 17:32:00,548] Trial 16 pruned. Trial was pruned at iteration 116.\n",
      "[I 2024-07-31 17:32:03,156] Trial 15 pruned. Trial was pruned at iteration 121.\n"
     ]
    },
    {
     "name": "stdout",
     "output_type": "stream",
     "text": [
      "Training until validation scores don't improve for 50 rounds\n",
      "Training until validation scores don't improve for 50 rounds\n"
     ]
    },
    {
     "name": "stderr",
     "output_type": "stream",
     "text": [
      "[I 2024-07-31 17:45:33,407] Trial 17 finished with value: 0.882410176965513 and parameters: {'n_estimators': 1000, 'max_bin': 11947, 'subsample': 0.9, 'subsample_freq': 3, 'colsample_bytree': 0.9, 'num_leaves': 222}. Best is trial 6 with value: 0.8800600329557733.\n"
     ]
    },
    {
     "name": "stdout",
     "output_type": "stream",
     "text": [
      "Training until validation scores don't improve for 50 rounds\n"
     ]
    },
    {
     "name": "stderr",
     "output_type": "stream",
     "text": [
      "[I 2024-07-31 18:05:05,347] Trial 18 finished with value: 0.8825045698453657 and parameters: {'n_estimators': 1000, 'max_bin': 10831, 'subsample': 0.9, 'subsample_freq': 3, 'colsample_bytree': 0.9, 'num_leaves': 224}. Best is trial 6 with value: 0.8800600329557733.\n",
      "[I 2024-07-31 18:05:36,676] Trial 20 finished with value: 0.88247352826005 and parameters: {'n_estimators': 1000, 'max_bin': 21242, 'subsample': 0.8, 'subsample_freq': 3, 'colsample_bytree': 0.9, 'num_leaves': 231}. Best is trial 6 with value: 0.8800600329557733.\n",
      "[I 2024-07-31 18:06:40,266] Trial 22 pruned. Trial was pruned at iteration 0.\n",
      "[I 2024-07-31 18:07:04,704] Trial 19 finished with value: 0.8821907421342838 and parameters: {'n_estimators': 1000, 'max_bin': 21566, 'subsample': 0.9, 'subsample_freq': 6, 'colsample_bytree': 0.9, 'num_leaves': 219}. Best is trial 6 with value: 0.8800600329557733.\n"
     ]
    },
    {
     "name": "stdout",
     "output_type": "stream",
     "text": [
      "Training until validation scores don't improve for 50 rounds\n",
      "Training until validation scores don't improve for 50 rounds\n",
      "Training until validation scores don't improve for 50 rounds\n",
      "Early stopping, best iteration is:\n",
      "[100]\tvalidation_0's auc: 0.884467\tvalidation_0's binary_logloss: 0.248759\n"
     ]
    },
    {
     "name": "stderr",
     "output_type": "stream",
     "text": [
      "[I 2024-07-31 18:24:46,486] Trial 21 finished with value: 0.8844667969989806 and parameters: {'n_estimators': 1000, 'max_bin': 21192, 'subsample': 0.8, 'subsample_freq': 6, 'colsample_bytree': 0.6, 'num_leaves': 262}. Best is trial 6 with value: 0.8800600329557733.\n"
     ]
    },
    {
     "name": "stdout",
     "output_type": "stream",
     "text": [
      "Training until validation scores don't improve for 50 rounds\n",
      "Early stopping, best iteration is:\n",
      "[71]\tvalidation_0's auc: 0.882902\tvalidation_0's binary_logloss: 0.249995\n"
     ]
    },
    {
     "name": "stderr",
     "output_type": "stream",
     "text": [
      "[I 2024-07-31 18:42:32,359] Trial 23 finished with value: 0.8818616746776753 and parameters: {'n_estimators': 800, 'max_bin': 1086, 'subsample': 0.8, 'subsample_freq': 6, 'colsample_bytree': 0.6, 'num_leaves': 291}. Best is trial 6 with value: 0.8800600329557733.\n",
      "[I 2024-07-31 18:42:52,510] Trial 25 finished with value: 0.882902396884157 and parameters: {'n_estimators': 800, 'max_bin': 24419, 'subsample': 0.9, 'subsample_freq': 6, 'colsample_bytree': 0.9, 'num_leaves': 277}. Best is trial 6 with value: 0.8800600329557733.\n",
      "[I 2024-07-31 18:43:10,436] Trial 26 pruned. Trial was pruned at iteration 56.\n",
      "[I 2024-07-31 18:43:32,877] Trial 24 finished with value: 0.88296210975238 and parameters: {'n_estimators': 1000, 'max_bin': 15713, 'subsample': 0.9, 'subsample_freq': 3, 'colsample_bytree': 0.9, 'num_leaves': 278}. Best is trial 6 with value: 0.8800600329557733.\n"
     ]
    },
    {
     "name": "stdout",
     "output_type": "stream",
     "text": [
      "Training until validation scores don't improve for 50 rounds\n",
      "Training until validation scores don't improve for 50 rounds\n",
      "Training until validation scores don't improve for 50 rounds\n",
      "Training until validation scores don't improve for 50 rounds\n"
     ]
    },
    {
     "name": "stderr",
     "output_type": "stream",
     "text": [
      "[I 2024-07-31 18:45:09,071] Trial 29 pruned. Trial was pruned at iteration 1.\n"
     ]
    },
    {
     "name": "stdout",
     "output_type": "stream",
     "text": [
      "Training until validation scores don't improve for 50 rounds\n"
     ]
    },
    {
     "name": "stderr",
     "output_type": "stream",
     "text": [
      "[I 2024-07-31 18:49:56,974] Trial 27 pruned. Trial was pruned at iteration 22.\n",
      "[I 2024-07-31 18:51:31,723] Trial 32 pruned. Trial was pruned at iteration 0.\n",
      "[I 2024-07-31 18:53:07,005] Trial 33 pruned. Trial was pruned at iteration 0.\n"
     ]
    },
    {
     "name": "stdout",
     "output_type": "stream",
     "text": [
      "Training until validation scores don't improve for 50 rounds\n"
     ]
    },
    {
     "name": "stderr",
     "output_type": "stream",
     "text": [
      "[I 2024-07-31 19:00:42,198] Trial 34 pruned. Trial was pruned at iteration 24.\n"
     ]
    },
    {
     "name": "stdout",
     "output_type": "stream",
     "text": [
      "Training until validation scores don't improve for 50 rounds\n"
     ]
    },
    {
     "name": "stderr",
     "output_type": "stream",
     "text": [
      "[I 2024-07-31 19:02:41,421] Trial 35 pruned. Trial was pruned at iteration 1.\n",
      "[I 2024-07-31 19:04:18,220] Trial 36 pruned. Trial was pruned at iteration 0.\n",
      "[I 2024-07-31 19:05:58,559] Trial 37 pruned. Trial was pruned at iteration 0.\n"
     ]
    }
   ],
   "source": [
    "study = optuna.create_study(direction = 'minimize')\n",
    "\n",
    "study.optimize(objective, n_trials = 50, n_jobs = -1)"
   ]
  },
  {
   "cell_type": "code",
   "execution_count": null,
   "metadata": {
    "trusted": true
   },
   "outputs": [],
   "source": [
    "print('Best trial:', study.best_trial)\n",
    "print('Best score:', study.best_value)\n",
    "print('Best params:', study.best_params)"
   ]
  },
  {
   "cell_type": "code",
   "execution_count": null,
   "metadata": {
    "trusted": true
   },
   "outputs": [],
   "source": [
    "from optuna.visualization import plot_optimization_history\n",
    "from optuna.visualization import plot_param_importances\n",
    "plot_optimization_history(study)"
   ]
  },
  {
   "cell_type": "code",
   "execution_count": null,
   "metadata": {
    "trusted": true
   },
   "outputs": [],
   "source": [
    "plot_param_importances(study)"
   ]
  },
  {
   "cell_type": "code",
   "execution_count": null,
   "metadata": {
    "trusted": true
   },
   "outputs": [],
   "source": [
    "optuna.visualization.plot_parallel_coordinate(study)"
   ]
  },
  {
   "cell_type": "markdown",
   "metadata": {},
   "source": [
    "## Cross validate score"
   ]
  },
  {
   "cell_type": "markdown",
   "metadata": {},
   "source": [
    "> **Hyperparameters obtained through optuna are applied to model training.**"
   ]
  },
  {
   "cell_type": "code",
   "execution_count": null,
   "metadata": {
    "execution": {
     "iopub.execute_input": "2024-07-31T20:56:12.590736Z",
     "iopub.status.busy": "2024-07-31T20:56:12.590204Z",
     "iopub.status.idle": "2024-07-31T20:56:12.613180Z",
     "shell.execute_reply": "2024-07-31T20:56:12.611816Z",
     "shell.execute_reply.started": "2024-07-31T20:56:12.590698Z"
    },
    "trusted": true
   },
   "outputs": [],
   "source": [
    "# with csr type\n",
    "def cross_validate_score(model, X, y, cv=None, test_data: pd.DataFrame = None, include_original: bool = True, original_data: pd.DataFrame = None, n_jobs=-1, verbose=True):\n",
    "    \"\"\"\n",
    "    Gradient Boosting 모델에 대해 교차 검증을 수행 및 OOF 예측을 생성\n",
    "\n",
    "    Args:\n",
    "        model: 학습할 모델 객체 (XGBClassifier, LGBMClassifier, CatBoostClassifier)\n",
    "        X: 학습 데이터 feature (sparse matrix)\n",
    "        y\n",
    "        cv: 교차 검증 객체 (default: StratifiedKFold)\n",
    "        test_data: 테스트 데이터의 feature (sparse matrix)\n",
    "        include_original: original_data를 포함할지 여부\n",
    "        original_data\n",
    "        n_jobs\n",
    "        verbose\n",
    "\n",
    "    Returns:\n",
    "        val_scores: 각 fold의 검증 점수 리스트\n",
    "        oof_val_preds: OOF 검증 예측 배열\n",
    "        oof_test_preds: OOF 테스트 예측 배열\n",
    "    \"\"\"\n",
    "    if cv is None:\n",
    "        cv = StratifiedKFold(n_splits=5, shuffle=True, random_state=101) # cv 초기화\n",
    "    if test_data is None:\n",
    "        raise ValueError(\"test_data must be provided\")\n",
    "\n",
    "    oof_val_preds = np.zeros(X.shape[0]) # OOF 검증 예측을 저장할 배열 초기화\n",
    "    oof_test_preds = np.zeros(test_data.shape[0])\n",
    "    train_scores, val_scores = [], []\n",
    "    \n",
    "    for fold, (train_idx, val_idx) in enumerate(cv.split(X, y)):\n",
    "        X_train = X[train_idx]\n",
    "        y_train = y[train_idx]\n",
    "        X_val = X[val_idx]\n",
    "        y_val = y[val_idx]\n",
    "        \n",
    "        model_cloned = clone(model)\n",
    "        \n",
    "        if isinstance(model_cloned, XGBClassifier):\n",
    "            eval_set = [(X_val, y_val)]\n",
    "            model_cloned.fit(X_train, y_train, eval_set=eval_set, early_stopping_rounds=50, verbose=True) #Dart 사용 시, early_stoppin 옵션 off\n",
    "            best_iteration = model_cloned.best_iteration\n",
    "            train_preds_proba = model_cloned.predict_proba(X_train, iteration_range=(0, best_iteration))[:, 1]\n",
    "            val_preds_proba = model_cloned.predict_proba(X_val, iteration_range=(0, best_iteration))[:, 1]\n",
    "            test_preds_proba = model_cloned.predict_proba(test_data, iteration_range=(0, best_iteration))[:, 1]\n",
    "        elif isinstance(model_cloned, LGBMClassifier):\n",
    "            eval_set = [(X_val, y_val)]\n",
    "            model_cloned.fit(X_train, y_train, eval_set=eval_set, eval_metric='auc', callbacks=[early_stopping(50)])\n",
    "            best_iteration = model_cloned.best_iteration_\n",
    "            train_preds_proba = model_cloned.predict_proba(X_train, num_iteration=best_iteration)[:, 1]\n",
    "            val_preds_proba = model_cloned.predict_proba(X_val, num_iteration=best_iteration)[:, 1]\n",
    "            test_preds_proba = model_cloned.predict_proba(test_data, num_iteration=best_iteration)[:, 1]\n",
    "        elif isinstance(model_cloned, CatBoostClassifier):\n",
    "            model_cloned.fit(X_train, y_train, eval_set=(X_val, y_val), early_stopping_rounds=50, verbose=True)\n",
    "            best_iteration = model_cloned.get_best_iteration()\n",
    "            train_preds_proba = model_cloned.predict_proba(X_train)[:, 1]\n",
    "            val_preds_proba = model_cloned.predict_proba(X_val)[:, 1]\n",
    "            test_preds_proba = model_cloned.predict_proba(test_data)[:, 1]\n",
    "        else:\n",
    "            raise ValueError(\"Model type not supported for early stopping.\")\n",
    "        \n",
    "        oof_val_preds[val_idx] = val_preds_proba\n",
    "        train_scores.append(roc_auc_score(y_train, train_preds_proba)) # 학습 데이터의 AUC 계산 및 저장\n",
    "        val_scores.append(roc_auc_score(y_val, val_preds_proba)) # 검증 데이터의 AUC 계산 및 저장\n",
    "        \n",
    "        print(f'Fold {fold}: {val_scores[-1]:.5f}')\n",
    "        \n",
    "        oof_test_preds += test_preds_proba / cv.get_n_splits() # OOF 테스트 예측 누적(평균 계산할 예정)\n",
    "    \n",
    "    print(f'Val Score: {np.mean(val_scores):.7f} ± {np.std(val_scores):.7f} | Train Score: {np.mean(train_scores):.7f} ± {np.std(train_scores):.7f}')\n",
    "    # 최종 Val Score 및 Train Score 출력 (평균 +- 표준편차)\n",
    "    \n",
    "    return val_scores, oof_val_preds, oof_test_preds"
   ]
  },
  {
   "cell_type": "code",
   "execution_count": 25,
   "metadata": {
    "execution": {
     "iopub.execute_input": "2024-07-31T20:56:15.060541Z",
     "iopub.status.busy": "2024-07-31T20:56:15.060116Z",
     "iopub.status.idle": "2024-07-31T20:56:15.069243Z",
     "shell.execute_reply": "2024-07-31T20:56:15.067375Z",
     "shell.execute_reply.started": "2024-07-31T20:56:15.060509Z"
    },
    "trusted": true
   },
   "outputs": [],
   "source": [
    "cv_summary, oof_predictions, oof_test_preds = pd.DataFrame(), pd.DataFrame(), pd.DataFrame()"
   ]
  },
  {
   "cell_type": "code",
   "execution_count": 26,
   "metadata": {
    "execution": {
     "iopub.execute_input": "2024-07-31T20:56:19.634770Z",
     "iopub.status.busy": "2024-07-31T20:56:19.634294Z",
     "iopub.status.idle": "2024-07-31T20:56:19.643669Z",
     "shell.execute_reply": "2024-07-31T20:56:19.641850Z",
     "shell.execute_reply.started": "2024-07-31T20:56:19.634736Z"
    },
    "trusted": true
   },
   "outputs": [],
   "source": [
    "lgbm_params = {'boosting_type':'gbdt', #dart, gbdt(gbdt->dart)\n",
    "               'n_estimators': 3000,\n",
    "               'max_bin': 17052,\n",
    "               'max_depth':-1,\n",
    "               'eval_metric': 'auc',\n",
    "               \"max_bin\": 15776,\n",
    "               #'device': 'gpu' # GPU doesn't support a custom max_bin\n",
    "               'num_leaves': 54,\n",
    "               'learning_rate': 0.03, #try to small(0.05->0.03)\n",
    "               'subsample': 0.8,\n",
    "               'subsample_freq': 4,\n",
    "               'colsample_bytree': 0.75,\n",
    "               'verbose': -1} #use only dart 'skip_drop' : 0.7\n",
    "\n",
    "lgbm_tuned = LGBMClassifier(**lgbm_params, random_state=101)"
   ]
  },
  {
   "cell_type": "code",
   "execution_count": 27,
   "metadata": {
    "execution": {
     "iopub.execute_input": "2024-07-31T20:56:23.020715Z",
     "iopub.status.busy": "2024-07-31T20:56:23.020255Z",
     "iopub.status.idle": "2024-08-01T01:48:52.302310Z",
     "shell.execute_reply": "2024-08-01T01:48:52.299522Z",
     "shell.execute_reply.started": "2024-07-31T20:56:23.020682Z"
    },
    "trusted": true
   },
   "outputs": [
    {
     "name": "stdout",
     "output_type": "stream",
     "text": [
      "Training until validation scores don't improve for 50 rounds\n",
      "Early stopping, best iteration is:\n",
      "[972]\tvalid_0's auc: 0.882487\tvalid_0's binary_logloss: 0.250093\n",
      "Fold 0: 0.88249\n",
      "Training until validation scores don't improve for 50 rounds\n",
      "Early stopping, best iteration is:\n",
      "[643]\tvalid_0's auc: 0.881465\tvalid_0's binary_logloss: 0.250847\n",
      "Fold 1: 0.88147\n",
      "Training until validation scores don't improve for 50 rounds\n",
      "Early stopping, best iteration is:\n",
      "[514]\tvalid_0's auc: 0.880551\tvalid_0's binary_logloss: 0.251471\n",
      "Fold 2: 0.88055\n",
      "Training until validation scores don't improve for 50 rounds\n",
      "Early stopping, best iteration is:\n",
      "[608]\tvalid_0's auc: 0.880997\tvalid_0's binary_logloss: 0.251053\n",
      "Fold 3: 0.88100\n",
      "Training until validation scores don't improve for 50 rounds\n",
      "Early stopping, best iteration is:\n",
      "[644]\tvalid_0's auc: 0.881862\tvalid_0's binary_logloss: 0.250415\n",
      "Fold 4: 0.88186\n",
      "Val Score: 0.8814725 ± 0.0006717 | Train Score: 0.8820852 ± 0.0009761\n",
      "CPU times: user 5h 14min 34s, sys: 23.3 s, total: 5h 14min 58s\n",
      "Wall time: 4h 52min 29s\n"
     ]
    }
   ],
   "source": [
    "%%time\n",
    "cv_summary['lgbm'], oof_predictions['lgbm'], oof_test_preds['lgbm'] = cross_validate_score(lgbm_tuned, X=X, y=y, test_data=X_test, include_original=False)"
   ]
  },
  {
   "cell_type": "code",
   "execution_count": 28,
   "metadata": {
    "execution": {
     "iopub.execute_input": "2024-08-01T01:48:52.309547Z",
     "iopub.status.busy": "2024-08-01T01:48:52.307410Z",
     "iopub.status.idle": "2024-08-01T01:48:52.335814Z",
     "shell.execute_reply": "2024-08-01T01:48:52.334165Z",
     "shell.execute_reply.started": "2024-08-01T01:48:52.309488Z"
    },
    "trusted": true
   },
   "outputs": [
    {
     "data": {
      "text/html": [
       "<div>\n",
       "<style scoped>\n",
       "    .dataframe tbody tr th:only-of-type {\n",
       "        vertical-align: middle;\n",
       "    }\n",
       "\n",
       "    .dataframe tbody tr th {\n",
       "        vertical-align: top;\n",
       "    }\n",
       "\n",
       "    .dataframe thead th {\n",
       "        text-align: right;\n",
       "    }\n",
       "</style>\n",
       "<table border=\"1\" class=\"dataframe\">\n",
       "  <thead>\n",
       "    <tr style=\"text-align: right;\">\n",
       "      <th></th>\n",
       "      <th>lgbm</th>\n",
       "    </tr>\n",
       "  </thead>\n",
       "  <tbody>\n",
       "    <tr>\n",
       "      <th>0</th>\n",
       "      <td>0.882487</td>\n",
       "    </tr>\n",
       "    <tr>\n",
       "      <th>1</th>\n",
       "      <td>0.881465</td>\n",
       "    </tr>\n",
       "    <tr>\n",
       "      <th>2</th>\n",
       "      <td>0.880551</td>\n",
       "    </tr>\n",
       "    <tr>\n",
       "      <th>3</th>\n",
       "      <td>0.880997</td>\n",
       "    </tr>\n",
       "    <tr>\n",
       "      <th>4</th>\n",
       "      <td>0.881862</td>\n",
       "    </tr>\n",
       "  </tbody>\n",
       "</table>\n",
       "</div>"
      ],
      "text/plain": [
       "       lgbm\n",
       "0  0.882487\n",
       "1  0.881465\n",
       "2  0.880551\n",
       "3  0.880997\n",
       "4  0.881862"
      ]
     },
     "execution_count": 28,
     "metadata": {},
     "output_type": "execute_result"
    }
   ],
   "source": [
    " cv_summary"
   ]
  },
  {
   "cell_type": "code",
   "execution_count": 29,
   "metadata": {
    "execution": {
     "iopub.execute_input": "2024-08-01T01:48:52.339005Z",
     "iopub.status.busy": "2024-08-01T01:48:52.337605Z",
     "iopub.status.idle": "2024-08-01T01:48:52.368332Z",
     "shell.execute_reply": "2024-08-01T01:48:52.366926Z",
     "shell.execute_reply.started": "2024-08-01T01:48:52.338953Z"
    },
    "trusted": true
   },
   "outputs": [
    {
     "data": {
      "text/html": [
       "<div>\n",
       "<style scoped>\n",
       "    .dataframe tbody tr th:only-of-type {\n",
       "        vertical-align: middle;\n",
       "    }\n",
       "\n",
       "    .dataframe tbody tr th {\n",
       "        vertical-align: top;\n",
       "    }\n",
       "\n",
       "    .dataframe thead th {\n",
       "        text-align: right;\n",
       "    }\n",
       "</style>\n",
       "<table border=\"1\" class=\"dataframe\">\n",
       "  <thead>\n",
       "    <tr style=\"text-align: right;\">\n",
       "      <th></th>\n",
       "      <th>lgbm</th>\n",
       "    </tr>\n",
       "  </thead>\n",
       "  <tbody>\n",
       "    <tr>\n",
       "      <th>0</th>\n",
       "      <td>0.167031</td>\n",
       "    </tr>\n",
       "    <tr>\n",
       "      <th>1</th>\n",
       "      <td>0.570394</td>\n",
       "    </tr>\n",
       "    <tr>\n",
       "      <th>2</th>\n",
       "      <td>0.000121</td>\n",
       "    </tr>\n",
       "    <tr>\n",
       "      <th>3</th>\n",
       "      <td>0.141029</td>\n",
       "    </tr>\n",
       "    <tr>\n",
       "      <th>4</th>\n",
       "      <td>0.000238</td>\n",
       "    </tr>\n",
       "    <tr>\n",
       "      <th>...</th>\n",
       "      <td>...</td>\n",
       "    </tr>\n",
       "    <tr>\n",
       "      <th>11504793</th>\n",
       "      <td>0.304912</td>\n",
       "    </tr>\n",
       "    <tr>\n",
       "      <th>11504794</th>\n",
       "      <td>0.081348</td>\n",
       "    </tr>\n",
       "    <tr>\n",
       "      <th>11504795</th>\n",
       "      <td>0.000185</td>\n",
       "    </tr>\n",
       "    <tr>\n",
       "      <th>11504796</th>\n",
       "      <td>0.326053</td>\n",
       "    </tr>\n",
       "    <tr>\n",
       "      <th>11504797</th>\n",
       "      <td>0.000164</td>\n",
       "    </tr>\n",
       "  </tbody>\n",
       "</table>\n",
       "<p>11504798 rows × 1 columns</p>\n",
       "</div>"
      ],
      "text/plain": [
       "              lgbm\n",
       "0         0.167031\n",
       "1         0.570394\n",
       "2         0.000121\n",
       "3         0.141029\n",
       "4         0.000238\n",
       "...            ...\n",
       "11504793  0.304912\n",
       "11504794  0.081348\n",
       "11504795  0.000185\n",
       "11504796  0.326053\n",
       "11504797  0.000164\n",
       "\n",
       "[11504798 rows x 1 columns]"
      ]
     },
     "execution_count": 29,
     "metadata": {},
     "output_type": "execute_result"
    }
   ],
   "source": [
    "oof_predictions"
   ]
  },
  {
   "cell_type": "code",
   "execution_count": 30,
   "metadata": {
    "execution": {
     "iopub.execute_input": "2024-08-01T01:48:52.371780Z",
     "iopub.status.busy": "2024-08-01T01:48:52.371271Z",
     "iopub.status.idle": "2024-08-01T01:48:52.383808Z",
     "shell.execute_reply": "2024-08-01T01:48:52.382226Z",
     "shell.execute_reply.started": "2024-08-01T01:48:52.371738Z"
    },
    "trusted": true
   },
   "outputs": [
    {
     "data": {
      "text/plain": [
       "array([[9.94857605e-03],\n",
       "       [4.62788558e-01],\n",
       "       [2.41103985e-01],\n",
       "       ...,\n",
       "       [3.71420018e-04],\n",
       "       [6.32621301e-01],\n",
       "       [1.20243708e-04]])"
      ]
     },
     "execution_count": 30,
     "metadata": {},
     "output_type": "execute_result"
    }
   ],
   "source": [
    "oof_test_preds.values"
   ]
  },
  {
   "cell_type": "markdown",
   "metadata": {},
   "source": [
    "## submission"
   ]
  },
  {
   "cell_type": "markdown",
   "metadata": {},
   "source": [
    "> It's the end"
   ]
  },
  {
   "cell_type": "code",
   "execution_count": 31,
   "metadata": {
    "execution": {
     "iopub.execute_input": "2024-08-01T01:48:52.388395Z",
     "iopub.status.busy": "2024-08-01T01:48:52.387284Z",
     "iopub.status.idle": "2024-08-01T01:48:52.628179Z",
     "shell.execute_reply": "2024-08-01T01:48:52.626697Z",
     "shell.execute_reply.started": "2024-08-01T01:48:52.388337Z"
    },
    "trusted": true
   },
   "outputs": [],
   "source": [
    "submission = pd.DataFrame()\n",
    "\n",
    "submission['id'] = test['id']\n",
    "submission['Response'] = oof_test_preds.values"
   ]
  },
  {
   "cell_type": "code",
   "execution_count": 32,
   "metadata": {
    "execution": {
     "iopub.execute_input": "2024-08-01T01:48:52.631103Z",
     "iopub.status.busy": "2024-08-01T01:48:52.630468Z",
     "iopub.status.idle": "2024-08-01T01:49:20.030545Z",
     "shell.execute_reply": "2024-08-01T01:49:20.029123Z",
     "shell.execute_reply.started": "2024-08-01T01:48:52.631059Z"
    },
    "trusted": true
   },
   "outputs": [
    {
     "name": "stdout",
     "output_type": "stream",
     "text": [
      "         id  Response\n",
      "0  11504798  0.009949\n",
      "1  11504799  0.462789\n",
      "2  11504800  0.241104\n",
      "3  11504801  0.000116\n",
      "4  11504802  0.047267\n"
     ]
    }
   ],
   "source": [
    "submission.to_csv('submission.csv', index=False)\n",
    "print(submission.head())"
   ]
  }
 ],
 "metadata": {
  "kaggle": {
   "accelerator": "none",
   "dataSources": [
    {
     "databundleVersionId": 8930475,
     "sourceId": 73291,
     "sourceType": "competition"
    }
   ],
   "dockerImageVersionId": 30746,
   "isGpuEnabled": false,
   "isInternetEnabled": true,
   "language": "python",
   "sourceType": "notebook"
  },
  "kernelspec": {
   "display_name": "Python 3",
   "language": "python",
   "name": "python3"
  },
  "language_info": {
   "codemirror_mode": {
    "name": "ipython",
    "version": 3
   },
   "file_extension": ".py",
   "mimetype": "text/x-python",
   "name": "python",
   "nbconvert_exporter": "python",
   "pygments_lexer": "ipython3",
   "version": "3.10.13"
  }
 },
 "nbformat": 4,
 "nbformat_minor": 4
}
