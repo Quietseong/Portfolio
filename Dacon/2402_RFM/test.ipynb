{
 "cells": [
  {
   "cell_type": "code",
   "execution_count": 2,
   "id": "61f34b71-67d6-4f3a-9867-7a29c16b76ef",
   "metadata": {},
   "outputs": [
    {
     "name": "stdout",
     "output_type": "stream",
     "text": [
      "1.26.4\n",
      "2.2.0\n",
      "5.18.0\n",
      "3.8.2\n",
      "0.13.2\n",
      "1.31.0\n"
     ]
    }
   ],
   "source": [
    "import numpy as np\n",
    "import pandas as pd\n",
    "import plotly\n",
    "import matplotlib as plt\n",
    "import seaborn as sns\n",
    "import streamlit as st\n",
    "\n",
    "print(np.__version__)\n",
    "print(pd.__version__)\n",
    "print(plotly.__version__)\n",
    "print(plt.__version__)\n",
    "print(sns.__version__)\n",
    "print(st.__version__)"
   ]
  },
  {
   "cell_type": "code",
   "execution_count": null,
   "id": "506baf66-ead5-4ce7-aa98-a22f5e6c86c7",
   "metadata": {},
   "outputs": [],
   "source": []
  }
 ],
 "metadata": {
  "kernelspec": {
   "display_name": "Python 3 (ipykernel)",
   "language": "python",
   "name": "python3"
  },
  "language_info": {
   "codemirror_mode": {
    "name": "ipython",
    "version": 3
   },
   "file_extension": ".py",
   "mimetype": "text/x-python",
   "name": "python",
   "nbconvert_exporter": "python",
   "pygments_lexer": "ipython3",
   "version": "3.11.1"
  }
 },
 "nbformat": 4,
 "nbformat_minor": 5
}
